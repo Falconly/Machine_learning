{
  "nbformat": 4,
  "nbformat_minor": 0,
  "metadata": {
    "colab": {
      "provenance": [],
      "authorship_tag": "ABX9TyMON20lNrGQlGvAzIdjVuRp",
      "include_colab_link": true
    },
    "kernelspec": {
      "name": "python3",
      "display_name": "Python 3"
    },
    "language_info": {
      "name": "python"
    }
  },
  "cells": [
    {
      "cell_type": "markdown",
      "metadata": {
        "id": "view-in-github",
        "colab_type": "text"
      },
      "source": [
        "<a href=\"https://colab.research.google.com/github/Falconly/Machine_learning/blob/main/Linear_Regression_numpy.ipynb\" target=\"_parent\"><img src=\"https://colab.research.google.com/assets/colab-badge.svg\" alt=\"Open In Colab\"/></a>"
      ]
    },
    {
      "cell_type": "code",
      "execution_count": 60,
      "metadata": {
        "id": "Qy1Uu9xik15E"
      },
      "outputs": [],
      "source": [
        "from google.colab import drive\n",
        "import pandas as pd\n",
        "import numpy as np\n",
        "import matplotlib.pyplot as plt\n",
        "import seaborn as sns"
      ]
    },
    {
      "cell_type": "code",
      "source": [
        "drive.mount('/content/drive')"
      ],
      "metadata": {
        "colab": {
          "base_uri": "https://localhost:8080/"
        },
        "id": "A815yv4vl1bK",
        "outputId": "5057e2e0-7017-40fe-e8ca-5641466c703e"
      },
      "execution_count": 61,
      "outputs": [
        {
          "output_type": "stream",
          "name": "stdout",
          "text": [
            "Drive already mounted at /content/drive; to attempt to forcibly remount, call drive.mount(\"/content/drive\", force_remount=True).\n"
          ]
        }
      ]
    },
    {
      "cell_type": "code",
      "source": [
        "path_dataset = '/content/drive/MyDrive/dataset.csv'\n",
        "data = pd.read_csv(path_dataset, sep=';')"
      ],
      "metadata": {
        "id": "eNXr8wn6l9Vi"
      },
      "execution_count": 62,
      "outputs": []
    },
    {
      "cell_type": "code",
      "source": [
        "data"
      ],
      "metadata": {
        "colab": {
          "base_uri": "https://localhost:8080/",
          "height": 989
        },
        "id": "d3VvNug5mofJ",
        "outputId": "a68aa5c2-2196-4308-9c77-e6f0d1ab93ad"
      },
      "execution_count": 63,
      "outputs": [
        {
          "output_type": "execute_result",
          "data": {
            "text/plain": [
              "    № хозяйства   Качество почв, балл (x) Урожайность от пшеницы, т/га (y)\n",
              "0             1                        65                                2\n",
              "1             2                        80                                3\n",
              "2             3                        55                              1,5\n",
              "3             4                        45                              1,5\n",
              "4             5                        88                              3,5\n",
              "5             6                        88                              3,5\n",
              "6             7                        90                              3,5\n",
              "7             8                        78                              2,5\n",
              "8             9                        65                                2\n",
              "9            10                        70                                2\n",
              "10           11                        65                              2,5\n",
              "11           12                        60                              2,5\n",
              "12           13                        50                              1,5\n",
              "13           14                        65                                2\n",
              "14           15                        65                              2,5\n",
              "15           16                        88                              3,5\n",
              "16           17                        45                              2,5\n",
              "17           18                        80                              3,5\n",
              "18           19                        90                              4,2\n",
              "19           20                        78                                3\n",
              "20           21                        50                              2,5\n",
              "21           22                        65                              2,5\n",
              "22           23                        80                                3\n",
              "23           24                        88                              4,2\n",
              "24           25                        70                              2,5\n",
              "25           26                        78                                3\n",
              "26           27                        80                              3,5\n",
              "27           28                        90                                4\n",
              "28           29                        78                              3,5\n",
              "29           30                        65                                2"
            ],
            "text/html": [
              "\n",
              "  <div id=\"df-eeab5dff-da31-447e-b28c-36e16d698135\" class=\"colab-df-container\">\n",
              "    <div>\n",
              "<style scoped>\n",
              "    .dataframe tbody tr th:only-of-type {\n",
              "        vertical-align: middle;\n",
              "    }\n",
              "\n",
              "    .dataframe tbody tr th {\n",
              "        vertical-align: top;\n",
              "    }\n",
              "\n",
              "    .dataframe thead th {\n",
              "        text-align: right;\n",
              "    }\n",
              "</style>\n",
              "<table border=\"1\" class=\"dataframe\">\n",
              "  <thead>\n",
              "    <tr style=\"text-align: right;\">\n",
              "      <th></th>\n",
              "      <th>№ хозяйства</th>\n",
              "      <th>Качество почв, балл (x)</th>\n",
              "      <th>Урожайность от пшеницы, т/га (y)</th>\n",
              "    </tr>\n",
              "  </thead>\n",
              "  <tbody>\n",
              "    <tr>\n",
              "      <th>0</th>\n",
              "      <td>1</td>\n",
              "      <td>65</td>\n",
              "      <td>2</td>\n",
              "    </tr>\n",
              "    <tr>\n",
              "      <th>1</th>\n",
              "      <td>2</td>\n",
              "      <td>80</td>\n",
              "      <td>3</td>\n",
              "    </tr>\n",
              "    <tr>\n",
              "      <th>2</th>\n",
              "      <td>3</td>\n",
              "      <td>55</td>\n",
              "      <td>1,5</td>\n",
              "    </tr>\n",
              "    <tr>\n",
              "      <th>3</th>\n",
              "      <td>4</td>\n",
              "      <td>45</td>\n",
              "      <td>1,5</td>\n",
              "    </tr>\n",
              "    <tr>\n",
              "      <th>4</th>\n",
              "      <td>5</td>\n",
              "      <td>88</td>\n",
              "      <td>3,5</td>\n",
              "    </tr>\n",
              "    <tr>\n",
              "      <th>5</th>\n",
              "      <td>6</td>\n",
              "      <td>88</td>\n",
              "      <td>3,5</td>\n",
              "    </tr>\n",
              "    <tr>\n",
              "      <th>6</th>\n",
              "      <td>7</td>\n",
              "      <td>90</td>\n",
              "      <td>3,5</td>\n",
              "    </tr>\n",
              "    <tr>\n",
              "      <th>7</th>\n",
              "      <td>8</td>\n",
              "      <td>78</td>\n",
              "      <td>2,5</td>\n",
              "    </tr>\n",
              "    <tr>\n",
              "      <th>8</th>\n",
              "      <td>9</td>\n",
              "      <td>65</td>\n",
              "      <td>2</td>\n",
              "    </tr>\n",
              "    <tr>\n",
              "      <th>9</th>\n",
              "      <td>10</td>\n",
              "      <td>70</td>\n",
              "      <td>2</td>\n",
              "    </tr>\n",
              "    <tr>\n",
              "      <th>10</th>\n",
              "      <td>11</td>\n",
              "      <td>65</td>\n",
              "      <td>2,5</td>\n",
              "    </tr>\n",
              "    <tr>\n",
              "      <th>11</th>\n",
              "      <td>12</td>\n",
              "      <td>60</td>\n",
              "      <td>2,5</td>\n",
              "    </tr>\n",
              "    <tr>\n",
              "      <th>12</th>\n",
              "      <td>13</td>\n",
              "      <td>50</td>\n",
              "      <td>1,5</td>\n",
              "    </tr>\n",
              "    <tr>\n",
              "      <th>13</th>\n",
              "      <td>14</td>\n",
              "      <td>65</td>\n",
              "      <td>2</td>\n",
              "    </tr>\n",
              "    <tr>\n",
              "      <th>14</th>\n",
              "      <td>15</td>\n",
              "      <td>65</td>\n",
              "      <td>2,5</td>\n",
              "    </tr>\n",
              "    <tr>\n",
              "      <th>15</th>\n",
              "      <td>16</td>\n",
              "      <td>88</td>\n",
              "      <td>3,5</td>\n",
              "    </tr>\n",
              "    <tr>\n",
              "      <th>16</th>\n",
              "      <td>17</td>\n",
              "      <td>45</td>\n",
              "      <td>2,5</td>\n",
              "    </tr>\n",
              "    <tr>\n",
              "      <th>17</th>\n",
              "      <td>18</td>\n",
              "      <td>80</td>\n",
              "      <td>3,5</td>\n",
              "    </tr>\n",
              "    <tr>\n",
              "      <th>18</th>\n",
              "      <td>19</td>\n",
              "      <td>90</td>\n",
              "      <td>4,2</td>\n",
              "    </tr>\n",
              "    <tr>\n",
              "      <th>19</th>\n",
              "      <td>20</td>\n",
              "      <td>78</td>\n",
              "      <td>3</td>\n",
              "    </tr>\n",
              "    <tr>\n",
              "      <th>20</th>\n",
              "      <td>21</td>\n",
              "      <td>50</td>\n",
              "      <td>2,5</td>\n",
              "    </tr>\n",
              "    <tr>\n",
              "      <th>21</th>\n",
              "      <td>22</td>\n",
              "      <td>65</td>\n",
              "      <td>2,5</td>\n",
              "    </tr>\n",
              "    <tr>\n",
              "      <th>22</th>\n",
              "      <td>23</td>\n",
              "      <td>80</td>\n",
              "      <td>3</td>\n",
              "    </tr>\n",
              "    <tr>\n",
              "      <th>23</th>\n",
              "      <td>24</td>\n",
              "      <td>88</td>\n",
              "      <td>4,2</td>\n",
              "    </tr>\n",
              "    <tr>\n",
              "      <th>24</th>\n",
              "      <td>25</td>\n",
              "      <td>70</td>\n",
              "      <td>2,5</td>\n",
              "    </tr>\n",
              "    <tr>\n",
              "      <th>25</th>\n",
              "      <td>26</td>\n",
              "      <td>78</td>\n",
              "      <td>3</td>\n",
              "    </tr>\n",
              "    <tr>\n",
              "      <th>26</th>\n",
              "      <td>27</td>\n",
              "      <td>80</td>\n",
              "      <td>3,5</td>\n",
              "    </tr>\n",
              "    <tr>\n",
              "      <th>27</th>\n",
              "      <td>28</td>\n",
              "      <td>90</td>\n",
              "      <td>4</td>\n",
              "    </tr>\n",
              "    <tr>\n",
              "      <th>28</th>\n",
              "      <td>29</td>\n",
              "      <td>78</td>\n",
              "      <td>3,5</td>\n",
              "    </tr>\n",
              "    <tr>\n",
              "      <th>29</th>\n",
              "      <td>30</td>\n",
              "      <td>65</td>\n",
              "      <td>2</td>\n",
              "    </tr>\n",
              "  </tbody>\n",
              "</table>\n",
              "</div>\n",
              "    <div class=\"colab-df-buttons\">\n",
              "\n",
              "  <div class=\"colab-df-container\">\n",
              "    <button class=\"colab-df-convert\" onclick=\"convertToInteractive('df-eeab5dff-da31-447e-b28c-36e16d698135')\"\n",
              "            title=\"Convert this dataframe to an interactive table.\"\n",
              "            style=\"display:none;\">\n",
              "\n",
              "  <svg xmlns=\"http://www.w3.org/2000/svg\" height=\"24px\" viewBox=\"0 -960 960 960\">\n",
              "    <path d=\"M120-120v-720h720v720H120Zm60-500h600v-160H180v160Zm220 220h160v-160H400v160Zm0 220h160v-160H400v160ZM180-400h160v-160H180v160Zm440 0h160v-160H620v160ZM180-180h160v-160H180v160Zm440 0h160v-160H620v160Z\"/>\n",
              "  </svg>\n",
              "    </button>\n",
              "\n",
              "  <style>\n",
              "    .colab-df-container {\n",
              "      display:flex;\n",
              "      gap: 12px;\n",
              "    }\n",
              "\n",
              "    .colab-df-convert {\n",
              "      background-color: #E8F0FE;\n",
              "      border: none;\n",
              "      border-radius: 50%;\n",
              "      cursor: pointer;\n",
              "      display: none;\n",
              "      fill: #1967D2;\n",
              "      height: 32px;\n",
              "      padding: 0 0 0 0;\n",
              "      width: 32px;\n",
              "    }\n",
              "\n",
              "    .colab-df-convert:hover {\n",
              "      background-color: #E2EBFA;\n",
              "      box-shadow: 0px 1px 2px rgba(60, 64, 67, 0.3), 0px 1px 3px 1px rgba(60, 64, 67, 0.15);\n",
              "      fill: #174EA6;\n",
              "    }\n",
              "\n",
              "    .colab-df-buttons div {\n",
              "      margin-bottom: 4px;\n",
              "    }\n",
              "\n",
              "    [theme=dark] .colab-df-convert {\n",
              "      background-color: #3B4455;\n",
              "      fill: #D2E3FC;\n",
              "    }\n",
              "\n",
              "    [theme=dark] .colab-df-convert:hover {\n",
              "      background-color: #434B5C;\n",
              "      box-shadow: 0px 1px 3px 1px rgba(0, 0, 0, 0.15);\n",
              "      filter: drop-shadow(0px 1px 2px rgba(0, 0, 0, 0.3));\n",
              "      fill: #FFFFFF;\n",
              "    }\n",
              "  </style>\n",
              "\n",
              "    <script>\n",
              "      const buttonEl =\n",
              "        document.querySelector('#df-eeab5dff-da31-447e-b28c-36e16d698135 button.colab-df-convert');\n",
              "      buttonEl.style.display =\n",
              "        google.colab.kernel.accessAllowed ? 'block' : 'none';\n",
              "\n",
              "      async function convertToInteractive(key) {\n",
              "        const element = document.querySelector('#df-eeab5dff-da31-447e-b28c-36e16d698135');\n",
              "        const dataTable =\n",
              "          await google.colab.kernel.invokeFunction('convertToInteractive',\n",
              "                                                    [key], {});\n",
              "        if (!dataTable) return;\n",
              "\n",
              "        const docLinkHtml = 'Like what you see? Visit the ' +\n",
              "          '<a target=\"_blank\" href=https://colab.research.google.com/notebooks/data_table.ipynb>data table notebook</a>'\n",
              "          + ' to learn more about interactive tables.';\n",
              "        element.innerHTML = '';\n",
              "        dataTable['output_type'] = 'display_data';\n",
              "        await google.colab.output.renderOutput(dataTable, element);\n",
              "        const docLink = document.createElement('div');\n",
              "        docLink.innerHTML = docLinkHtml;\n",
              "        element.appendChild(docLink);\n",
              "      }\n",
              "    </script>\n",
              "  </div>\n",
              "\n",
              "\n",
              "<div id=\"df-88c1c4c8-3ec9-4f79-aff5-ece5c87e1b9d\">\n",
              "  <button class=\"colab-df-quickchart\" onclick=\"quickchart('df-88c1c4c8-3ec9-4f79-aff5-ece5c87e1b9d')\"\n",
              "            title=\"Suggest charts\"\n",
              "            style=\"display:none;\">\n",
              "\n",
              "<svg xmlns=\"http://www.w3.org/2000/svg\" height=\"24px\"viewBox=\"0 0 24 24\"\n",
              "     width=\"24px\">\n",
              "    <g>\n",
              "        <path d=\"M19 3H5c-1.1 0-2 .9-2 2v14c0 1.1.9 2 2 2h14c1.1 0 2-.9 2-2V5c0-1.1-.9-2-2-2zM9 17H7v-7h2v7zm4 0h-2V7h2v10zm4 0h-2v-4h2v4z\"/>\n",
              "    </g>\n",
              "</svg>\n",
              "  </button>\n",
              "\n",
              "<style>\n",
              "  .colab-df-quickchart {\n",
              "      --bg-color: #E8F0FE;\n",
              "      --fill-color: #1967D2;\n",
              "      --hover-bg-color: #E2EBFA;\n",
              "      --hover-fill-color: #174EA6;\n",
              "      --disabled-fill-color: #AAA;\n",
              "      --disabled-bg-color: #DDD;\n",
              "  }\n",
              "\n",
              "  [theme=dark] .colab-df-quickchart {\n",
              "      --bg-color: #3B4455;\n",
              "      --fill-color: #D2E3FC;\n",
              "      --hover-bg-color: #434B5C;\n",
              "      --hover-fill-color: #FFFFFF;\n",
              "      --disabled-bg-color: #3B4455;\n",
              "      --disabled-fill-color: #666;\n",
              "  }\n",
              "\n",
              "  .colab-df-quickchart {\n",
              "    background-color: var(--bg-color);\n",
              "    border: none;\n",
              "    border-radius: 50%;\n",
              "    cursor: pointer;\n",
              "    display: none;\n",
              "    fill: var(--fill-color);\n",
              "    height: 32px;\n",
              "    padding: 0;\n",
              "    width: 32px;\n",
              "  }\n",
              "\n",
              "  .colab-df-quickchart:hover {\n",
              "    background-color: var(--hover-bg-color);\n",
              "    box-shadow: 0 1px 2px rgba(60, 64, 67, 0.3), 0 1px 3px 1px rgba(60, 64, 67, 0.15);\n",
              "    fill: var(--button-hover-fill-color);\n",
              "  }\n",
              "\n",
              "  .colab-df-quickchart-complete:disabled,\n",
              "  .colab-df-quickchart-complete:disabled:hover {\n",
              "    background-color: var(--disabled-bg-color);\n",
              "    fill: var(--disabled-fill-color);\n",
              "    box-shadow: none;\n",
              "  }\n",
              "\n",
              "  .colab-df-spinner {\n",
              "    border: 2px solid var(--fill-color);\n",
              "    border-color: transparent;\n",
              "    border-bottom-color: var(--fill-color);\n",
              "    animation:\n",
              "      spin 1s steps(1) infinite;\n",
              "  }\n",
              "\n",
              "  @keyframes spin {\n",
              "    0% {\n",
              "      border-color: transparent;\n",
              "      border-bottom-color: var(--fill-color);\n",
              "      border-left-color: var(--fill-color);\n",
              "    }\n",
              "    20% {\n",
              "      border-color: transparent;\n",
              "      border-left-color: var(--fill-color);\n",
              "      border-top-color: var(--fill-color);\n",
              "    }\n",
              "    30% {\n",
              "      border-color: transparent;\n",
              "      border-left-color: var(--fill-color);\n",
              "      border-top-color: var(--fill-color);\n",
              "      border-right-color: var(--fill-color);\n",
              "    }\n",
              "    40% {\n",
              "      border-color: transparent;\n",
              "      border-right-color: var(--fill-color);\n",
              "      border-top-color: var(--fill-color);\n",
              "    }\n",
              "    60% {\n",
              "      border-color: transparent;\n",
              "      border-right-color: var(--fill-color);\n",
              "    }\n",
              "    80% {\n",
              "      border-color: transparent;\n",
              "      border-right-color: var(--fill-color);\n",
              "      border-bottom-color: var(--fill-color);\n",
              "    }\n",
              "    90% {\n",
              "      border-color: transparent;\n",
              "      border-bottom-color: var(--fill-color);\n",
              "    }\n",
              "  }\n",
              "</style>\n",
              "\n",
              "  <script>\n",
              "    async function quickchart(key) {\n",
              "      const quickchartButtonEl =\n",
              "        document.querySelector('#' + key + ' button');\n",
              "      quickchartButtonEl.disabled = true;  // To prevent multiple clicks.\n",
              "      quickchartButtonEl.classList.add('colab-df-spinner');\n",
              "      try {\n",
              "        const charts = await google.colab.kernel.invokeFunction(\n",
              "            'suggestCharts', [key], {});\n",
              "      } catch (error) {\n",
              "        console.error('Error during call to suggestCharts:', error);\n",
              "      }\n",
              "      quickchartButtonEl.classList.remove('colab-df-spinner');\n",
              "      quickchartButtonEl.classList.add('colab-df-quickchart-complete');\n",
              "    }\n",
              "    (() => {\n",
              "      let quickchartButtonEl =\n",
              "        document.querySelector('#df-88c1c4c8-3ec9-4f79-aff5-ece5c87e1b9d button');\n",
              "      quickchartButtonEl.style.display =\n",
              "        google.colab.kernel.accessAllowed ? 'block' : 'none';\n",
              "    })();\n",
              "  </script>\n",
              "</div>\n",
              "    </div>\n",
              "  </div>\n"
            ],
            "application/vnd.google.colaboratory.intrinsic+json": {
              "type": "dataframe",
              "variable_name": "data",
              "summary": "{\n  \"name\": \"data\",\n  \"rows\": 30,\n  \"fields\": [\n    {\n      \"column\": \"\\u2116 \\u0445\\u043e\\u0437\\u044f\\u0439\\u0441\\u0442\\u0432\\u0430\",\n      \"properties\": {\n        \"dtype\": \"number\",\n        \"std\": 8,\n        \"min\": 1,\n        \"max\": 30,\n        \"num_unique_values\": 30,\n        \"samples\": [\n          28,\n          16,\n          24\n        ],\n        \"semantic_type\": \"\",\n        \"description\": \"\"\n      }\n    },\n    {\n      \"column\": \"\\u00a0\\u041a\\u0430\\u0447\\u0435\\u0441\\u0442\\u0432\\u043e \\u043f\\u043e\\u0447\\u0432, \\u0431\\u0430\\u043b\\u043b (x)\",\n      \"properties\": {\n        \"dtype\": \"number\",\n        \"std\": 13,\n        \"min\": 45,\n        \"max\": 90,\n        \"num_unique_values\": 10,\n        \"samples\": [\n          60,\n          80,\n          90\n        ],\n        \"semantic_type\": \"\",\n        \"description\": \"\"\n      }\n    },\n    {\n      \"column\": \"\\u0423\\u0440\\u043e\\u0436\\u0430\\u0439\\u043d\\u043e\\u0441\\u0442\\u044c \\u043e\\u0442 \\u043f\\u0448\\u0435\\u043d\\u0438\\u0446\\u044b, \\u0442/\\u0433\\u0430 (y)\",\n      \"properties\": {\n        \"dtype\": \"category\",\n        \"num_unique_values\": 7,\n        \"samples\": [\n          \"2\",\n          \"3\",\n          \"4,2\"\n        ],\n        \"semantic_type\": \"\",\n        \"description\": \"\"\n      }\n    }\n  ]\n}"
            }
          },
          "metadata": {},
          "execution_count": 63
        }
      ]
    },
    {
      "cell_type": "code",
      "source": [
        "data.drop(columns=['№ хозяйства'], inplace=True)"
      ],
      "metadata": {
        "id": "4GnDMmexIFJD"
      },
      "execution_count": 64,
      "outputs": []
    },
    {
      "cell_type": "code",
      "source": [
        "data.columns = ['x', 'y']"
      ],
      "metadata": {
        "id": "S12oAPbkIBWq"
      },
      "execution_count": 65,
      "outputs": []
    },
    {
      "cell_type": "code",
      "source": [
        "data['y'] = np.char.replace(data['y'].values.astype(str), ',', '.').astype(np.float32)"
      ],
      "metadata": {
        "id": "wya2WS9ARXhz"
      },
      "execution_count": 66,
      "outputs": []
    },
    {
      "cell_type": "code",
      "source": [
        "sns.scatterplot(data, x='x', y='y')"
      ],
      "metadata": {
        "id": "OzvaCvIwo86y",
        "colab": {
          "base_uri": "https://localhost:8080/",
          "height": 466
        },
        "outputId": "ee5f0482-b944-4470-8f60-d35872c35f3c"
      },
      "execution_count": 67,
      "outputs": [
        {
          "output_type": "execute_result",
          "data": {
            "text/plain": [
              "<Axes: xlabel='x', ylabel='y'>"
            ]
          },
          "metadata": {},
          "execution_count": 67
        },
        {
          "output_type": "display_data",
          "data": {
            "text/plain": [
              "<Figure size 640x480 with 1 Axes>"
            ],
            "image/png": "[encoded data removed]"
          },
          "metadata": {}
        }
      ]
    },
    {
      "cell_type": "code",
      "source": [
        "def mean_squared_error(y, y_pred):\n",
        "  return np.mean(np.square(y - y_pred))"
      ],
      "metadata": {
        "id": "HucXXSecJ62c"
      },
      "execution_count": 68,
      "outputs": []
    },
    {
      "cell_type": "markdown",
      "source": [
        "## Частные производные коэффициентов $b_0$ и $b_1$:\n",
        "$\\frac {∂J}{∂b_0} = - \\frac {1}{n}(y_i-b_1*x_i-b_0)$  \n",
        "\n",
        "$\\frac {∂J}{db_1} = \\frac {1}{n}(y_i-b_1*x_i-b_0)*(-x_i)$"
      ],
      "metadata": {
        "id": "njte5AXrUR3h"
      }
    },
    {
      "cell_type": "code",
      "source": [
        "def derivate_b1(y, b1, x, b0, n):\n",
        "  return np.sum((y - b1 * x - b0) * (-x)) / n\n",
        "\n",
        "def derivate_b0(y, b1, x, b0, n):\n",
        "  return np.sum(-(y-b1*x-b0)) / n"
      ],
      "metadata": {
        "id": "v_G5dmX6J88U"
      },
      "execution_count": 69,
      "outputs": []
    },
    {
      "cell_type": "code",
      "source": [
        "X = data['x'].values\n",
        "y = data['y'].values"
      ],
      "metadata": {
        "id": "X69U096CoS6W"
      },
      "execution_count": 70,
      "outputs": []
    },
    {
      "cell_type": "markdown",
      "source": [
        "## С помощью градиентного спуска"
      ],
      "metadata": {
        "id": "mAWBXNaQoUFQ"
      }
    },
    {
      "cell_type": "code",
      "source": [
        "b0 = 0\n",
        "b1 = 0\n",
        "\n",
        "lr = 0.0001\n",
        "epochs = 10\n",
        "batch = 4"
      ],
      "metadata": {
        "id": "5rgFbcziOe2H"
      },
      "execution_count": 71,
      "outputs": []
    },
    {
      "cell_type": "code",
      "source": [
        "error_lst = []\n",
        "b0_lst = []\n",
        "b1_lst = []"
      ],
      "metadata": {
        "id": "194xrNUiQMBG"
      },
      "execution_count": 72,
      "outputs": []
    },
    {
      "cell_type": "code",
      "source": [
        "\n",
        "for i in range(epochs):\n",
        "  pred = b0 + b1 * X\n",
        "\n",
        "  error_lst.append(mean_squared_error(pred, y))\n",
        "\n",
        "  b0_lst.append(b0)\n",
        "  b1_lst.append(b1)\n",
        "\n",
        "  b0 = b0 - lr * derivate_b0(y, b1, X, b0, X.shape[0])\n",
        "  b1 = b1 - lr * derivate_b1(y, b1, X, b0, X.shape[0])"
      ],
      "metadata": {
        "id": "Fa5z_KSQOqj6"
      },
      "execution_count": 73,
      "outputs": []
    },
    {
      "cell_type": "code",
      "source": [
        "\n",
        "plt.plot(range(len(error_lst)), error_lst)"
      ],
      "metadata": {
        "colab": {
          "base_uri": "https://localhost:8080/",
          "height": 447
        },
        "id": "1SLPaJVkRJmM",
        "outputId": "c6019a2d-ddb9-43af-eef6-d0989a278de2"
      },
      "execution_count": 74,
      "outputs": [
        {
          "output_type": "execute_result",
          "data": {
            "text/plain": [
              "[<matplotlib.lines.Line2D at 0x7f5377290f70>]"
            ]
          },
          "metadata": {},
          "execution_count": 74
        },
        {
          "output_type": "display_data",
          "data": {
            "text/plain": [
              "<Figure size 640x480 with 1 Axes>"
            ],
            "image/png": "[encoded data removed]"
          },
          "metadata": {}
        }
      ]
    },
    {
      "cell_type": "code",
      "source": [
        "print(f'Полученные коэффициенты: b0 {round(b0, 5)}, b1 {round(b1, 5)}')"
      ],
      "metadata": {
        "colab": {
          "base_uri": "https://localhost:8080/"
        },
        "id": "aWcaqYNCSWG7",
        "outputId": "e738fac8-f766-4d44-9476-2806e9814874"
      },
      "execution_count": 75,
      "outputs": [
        {
          "output_type": "stream",
          "name": "stdout",
          "text": [
            "Полученные коэффициенты: b0 0.0005, b1 0.03902\n"
          ]
        }
      ]
    },
    {
      "cell_type": "code",
      "source": [
        "b0 + b1 * 80"
      ],
      "metadata": {
        "colab": {
          "base_uri": "https://localhost:8080/"
        },
        "id": "EB2ae0Sb87sk",
        "outputId": "ccb00aee-19ab-410c-f58a-ddc98a525d3b"
      },
      "execution_count": 76,
      "outputs": [
        {
          "output_type": "execute_result",
          "data": {
            "text/plain": [
              "3.1221447418633432"
            ]
          },
          "metadata": {},
          "execution_count": 76
        }
      ]
    },
    {
      "cell_type": "code",
      "source": [
        "mse = 0\n",
        "rmse = 0\n",
        "mae = 0"
      ],
      "metadata": {
        "id": "52WaHXZh9dRx"
      },
      "execution_count": 77,
      "outputs": []
    },
    {
      "cell_type": "code",
      "source": [
        "for i in range(len(X)):\n",
        "  pred = b0 + b1 * X[i]\n",
        "  mse = mean_squared_error(y[i], pred)\n",
        "  mae = y[i] - pred"
      ],
      "metadata": {
        "id": "l9Ga2wBg9lV7"
      },
      "execution_count": 78,
      "outputs": []
    },
    {
      "cell_type": "code",
      "source": [
        "mse = mse / len(X)\n",
        "rmse = np.sqrt(mse)\n",
        "mae = mae / len(X)"
      ],
      "metadata": {
        "id": "koMLTc2k-Tv2"
      },
      "execution_count": 79,
      "outputs": []
    },
    {
      "cell_type": "code",
      "source": [
        "print(f'MAE: {mae}, MSE: {mse}, RMSE: {rmse}')"
      ],
      "metadata": {
        "colab": {
          "base_uri": "https://localhost:8080/"
        },
        "id": "4-r1UX4h-rU0",
        "outputId": "3ec560e1-5055-492a-ef48-37096c534c94"
      },
      "execution_count": 80,
      "outputs": [
        {
          "output_type": "stream",
          "name": "stdout",
          "text": [
            "MAE: -0.01789455122876742, MSE: 0.009606448910369447, RMSE: 0.09801249364427704\n"
          ]
        }
      ]
    },
    {
      "cell_type": "markdown",
      "source": [
        "## С помощью метода наименьших квадратов"
      ],
      "metadata": {
        "id": "x9JGKWWtoZOA"
      }
    },
    {
      "cell_type": "code",
      "source": [
        "x_mean = data['x'].mean()\n",
        "y_mean = data['y'].mean()"
      ],
      "metadata": {
        "id": "7qmqCgR_oC14"
      },
      "execution_count": 81,
      "outputs": []
    },
    {
      "cell_type": "code",
      "source": [
        "b1 = np.sum(((X - x_mean) * (y - y_mean)))/np.sum(np.square((X-x_mean)))\n",
        "b0 = y_mean - b1 * x_mean"
      ],
      "metadata": {
        "id": "jO1ZObUFpp1d"
      },
      "execution_count": 82,
      "outputs": []
    },
    {
      "cell_type": "code",
      "source": [
        "print(f'Коэффициента, полученные с помощью метода наименьших квадратов: b1: {b1}, b0: {b0}')"
      ],
      "metadata": {
        "colab": {
          "base_uri": "https://localhost:8080/"
        },
        "id": "-PqNUgPqpqbg",
        "outputId": "6d7ee050-c11f-486c-d4da-e8a7d48faebb"
      },
      "execution_count": 83,
      "outputs": [
        {
          "output_type": "stream",
          "name": "stdout",
          "text": [
            "Коэффициента, полученные с помощью метода наименьших квадратов: b1: 0.04808021578624049, b0: -0.6721595220622967\n"
          ]
        }
      ]
    },
    {
      "cell_type": "code",
      "source": [
        "mse = 0\n",
        "rmse = 0\n",
        "mae = 0"
      ],
      "metadata": {
        "id": "OsxBYW1DrG7o"
      },
      "execution_count": 84,
      "outputs": []
    },
    {
      "cell_type": "code",
      "source": [
        "for i in range(len(X)):\n",
        "  pred = b0 + b1 * X[i]\n",
        "  mse = mean_squared_error(y[i], pred)\n",
        "  mae = y[i] - pred"
      ],
      "metadata": {
        "id": "5ZwfEkDiqe-U"
      },
      "execution_count": 85,
      "outputs": []
    },
    {
      "cell_type": "code",
      "source": [
        "mse = mse / len(X)\n",
        "rmse = np.sqrt(mse)\n",
        "mae = mae / len(X)"
      ],
      "metadata": {
        "id": "gxk9m97crKyJ"
      },
      "execution_count": 86,
      "outputs": []
    },
    {
      "cell_type": "code",
      "source": [
        "print(f'MAE: {mae}, MSE: {mse}, RMSE: {rmse}')"
      ],
      "metadata": {
        "colab": {
          "base_uri": "https://localhost:8080/"
        },
        "id": "b2pdLJemrYoR",
        "outputId": "0de10c62-245d-49db-ee7e-884e560e2698"
      },
      "execution_count": 87,
      "outputs": [
        {
          "output_type": "stream",
          "name": "stdout",
          "text": [
            "MAE: -0.015101816801444512, MSE: 0.006841946121131753, RMSE: 0.08271605721461675\n"
          ]
        }
      ]
    },
    {
      "cell_type": "markdown",
      "source": [
        "## С помощью метода наименьших квадратов метрики получаются меньше, чем при градиентном спуске."
      ],
      "metadata": {
        "id": "eCMAxs0KsJy7"
      }
    },
    {
      "cell_type": "code",
      "source": [],
      "metadata": {
        "id": "6l6t8ReisFQU"
      },
      "execution_count": 87,
      "outputs": []
    }
  ]
}